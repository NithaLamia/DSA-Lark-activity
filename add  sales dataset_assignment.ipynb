{
 "cells": [
  {
   "cell_type": "markdown",
   "id": "facc110a",
   "metadata": {},
   "source": [
    "# CASE STUDY ON ADD SALE DATASET"
   ]
  },
  {
   "cell_type": "code",
   "execution_count": 1,
   "id": "712f8f30",
   "metadata": {},
   "outputs": [],
   "source": [
    "#Importing necessary libraries.\n",
    "\n",
    "import pandas as pd\n",
    "import numpy as np\n",
    "import seaborn as sns\n",
    "import matplotlib.pyplot as plt\n",
    "import warnings\n",
    "warnings.filterwarnings(\"ignore\")\n",
    "from sklearn.model_selection import train_test_split\n",
    "from sklearn import linear_model\n",
    "from sklearn.metrics import mean_squared_error"
   ]
  },
  {
   "cell_type": "code",
   "execution_count": 2,
   "id": "b0f0dd2c",
   "metadata": {},
   "outputs": [
    {
     "data": {
      "text/html": [
       "<div>\n",
       "<style scoped>\n",
       "    .dataframe tbody tr th:only-of-type {\n",
       "        vertical-align: middle;\n",
       "    }\n",
       "\n",
       "    .dataframe tbody tr th {\n",
       "        vertical-align: top;\n",
       "    }\n",
       "\n",
       "    .dataframe thead th {\n",
       "        text-align: right;\n",
       "    }\n",
       "</style>\n",
       "<table border=\"1\" class=\"dataframe\">\n",
       "  <thead>\n",
       "    <tr style=\"text-align: right;\">\n",
       "      <th></th>\n",
       "      <th>Date</th>\n",
       "      <th>Add1(in Thousands)</th>\n",
       "      <th>Add2(in Thousands)</th>\n",
       "      <th>Add3(in Thousands)</th>\n",
       "      <th>Add4(in Thousands)</th>\n",
       "      <th>Add5(in Thousands)</th>\n",
       "      <th>Profit(in Thousands)</th>\n",
       "    </tr>\n",
       "  </thead>\n",
       "  <tbody>\n",
       "    <tr>\n",
       "      <th>0</th>\n",
       "      <td>2018-10-08</td>\n",
       "      <td>208.00</td>\n",
       "      <td>222.25</td>\n",
       "      <td>206.85</td>\n",
       "      <td>216.00</td>\n",
       "      <td>215.15</td>\n",
       "      <td>4093.065</td>\n",
       "    </tr>\n",
       "    <tr>\n",
       "      <th>1</th>\n",
       "      <td>2018-10-05</td>\n",
       "      <td>217.00</td>\n",
       "      <td>218.60</td>\n",
       "      <td>205.90</td>\n",
       "      <td>210.25</td>\n",
       "      <td>209.20</td>\n",
       "      <td>4042.448</td>\n",
       "    </tr>\n",
       "    <tr>\n",
       "      <th>2</th>\n",
       "      <td>2018-10-04</td>\n",
       "      <td>223.50</td>\n",
       "      <td>227.80</td>\n",
       "      <td>216.15</td>\n",
       "      <td>217.25</td>\n",
       "      <td>218.20</td>\n",
       "      <td>4213.819</td>\n",
       "    </tr>\n",
       "    <tr>\n",
       "      <th>3</th>\n",
       "      <td>2018-10-03</td>\n",
       "      <td>230.00</td>\n",
       "      <td>237.50</td>\n",
       "      <td>225.75</td>\n",
       "      <td>226.45</td>\n",
       "      <td>227.60</td>\n",
       "      <td>4391.665</td>\n",
       "    </tr>\n",
       "    <tr>\n",
       "      <th>4</th>\n",
       "      <td>2018-10-01</td>\n",
       "      <td>234.55</td>\n",
       "      <td>234.60</td>\n",
       "      <td>221.05</td>\n",
       "      <td>230.30</td>\n",
       "      <td>230.90</td>\n",
       "      <td>4350.683</td>\n",
       "    </tr>\n",
       "    <tr>\n",
       "      <th>...</th>\n",
       "      <td>...</td>\n",
       "      <td>...</td>\n",
       "      <td>...</td>\n",
       "      <td>...</td>\n",
       "      <td>...</td>\n",
       "      <td>...</td>\n",
       "      <td>...</td>\n",
       "    </tr>\n",
       "    <tr>\n",
       "      <th>200</th>\n",
       "      <td>2017-12-14</td>\n",
       "      <td>288.00</td>\n",
       "      <td>288.25</td>\n",
       "      <td>279.20</td>\n",
       "      <td>284.50</td>\n",
       "      <td>284.30</td>\n",
       "      <td>5374.105</td>\n",
       "    </tr>\n",
       "    <tr>\n",
       "      <th>201</th>\n",
       "      <td>2017-12-13</td>\n",
       "      <td>290.00</td>\n",
       "      <td>292.50</td>\n",
       "      <td>282.20</td>\n",
       "      <td>284.80</td>\n",
       "      <td>284.45</td>\n",
       "      <td>5439.655</td>\n",
       "    </tr>\n",
       "    <tr>\n",
       "      <th>202</th>\n",
       "      <td>2017-12-12</td>\n",
       "      <td>298.60</td>\n",
       "      <td>298.60</td>\n",
       "      <td>286.65</td>\n",
       "      <td>287.45</td>\n",
       "      <td>287.80</td>\n",
       "      <td>5545.013</td>\n",
       "    </tr>\n",
       "    <tr>\n",
       "      <th>203</th>\n",
       "      <td>2017-12-11</td>\n",
       "      <td>290.00</td>\n",
       "      <td>299.55</td>\n",
       "      <td>285.90</td>\n",
       "      <td>297.85</td>\n",
       "      <td>298.35</td>\n",
       "      <td>5565.444</td>\n",
       "    </tr>\n",
       "    <tr>\n",
       "      <th>204</th>\n",
       "      <td>2017-12-08</td>\n",
       "      <td>287.55</td>\n",
       "      <td>289.90</td>\n",
       "      <td>285.05</td>\n",
       "      <td>288.05</td>\n",
       "      <td>288.45</td>\n",
       "      <td>5421.842</td>\n",
       "    </tr>\n",
       "  </tbody>\n",
       "</table>\n",
       "<p>205 rows × 7 columns</p>\n",
       "</div>"
      ],
      "text/plain": [
       "           Date  Add1(in Thousands)  Add2(in Thousands)  Add3(in Thousands)  \\\n",
       "0    2018-10-08              208.00              222.25              206.85   \n",
       "1    2018-10-05              217.00              218.60              205.90   \n",
       "2    2018-10-04              223.50              227.80              216.15   \n",
       "3    2018-10-03              230.00              237.50              225.75   \n",
       "4    2018-10-01              234.55              234.60              221.05   \n",
       "..          ...                 ...                 ...                 ...   \n",
       "200  2017-12-14              288.00              288.25              279.20   \n",
       "201  2017-12-13              290.00              292.50              282.20   \n",
       "202  2017-12-12              298.60              298.60              286.65   \n",
       "203  2017-12-11              290.00              299.55              285.90   \n",
       "204  2017-12-08              287.55              289.90              285.05   \n",
       "\n",
       "     Add4(in Thousands)  Add5(in Thousands)  Profit(in Thousands)  \n",
       "0                216.00              215.15              4093.065  \n",
       "1                210.25              209.20              4042.448  \n",
       "2                217.25              218.20              4213.819  \n",
       "3                226.45              227.60              4391.665  \n",
       "4                230.30              230.90              4350.683  \n",
       "..                  ...                 ...                   ...  \n",
       "200              284.50              284.30              5374.105  \n",
       "201              284.80              284.45              5439.655  \n",
       "202              287.45              287.80              5545.013  \n",
       "203              297.85              298.35              5565.444  \n",
       "204              288.05              288.45              5421.842  \n",
       "\n",
       "[205 rows x 7 columns]"
      ]
     },
     "execution_count": 2,
     "metadata": {},
     "output_type": "execute_result"
    }
   ],
   "source": [
    "#Reading dataset into python \n",
    "\n",
    "data=pd.read_csv(\"Add_sales_data_2018.csv\")\n",
    "data"
   ]
  },
  {
   "cell_type": "code",
   "execution_count": 3,
   "id": "fe19ec9f",
   "metadata": {},
   "outputs": [
    {
     "data": {
      "text/html": [
       "<div>\n",
       "<style scoped>\n",
       "    .dataframe tbody tr th:only-of-type {\n",
       "        vertical-align: middle;\n",
       "    }\n",
       "\n",
       "    .dataframe tbody tr th {\n",
       "        vertical-align: top;\n",
       "    }\n",
       "\n",
       "    .dataframe thead th {\n",
       "        text-align: right;\n",
       "    }\n",
       "</style>\n",
       "<table border=\"1\" class=\"dataframe\">\n",
       "  <thead>\n",
       "    <tr style=\"text-align: right;\">\n",
       "      <th></th>\n",
       "      <th>Date</th>\n",
       "      <th>Add1(in Thousands)</th>\n",
       "      <th>Add2(in Thousands)</th>\n",
       "      <th>Add3(in Thousands)</th>\n",
       "      <th>Add4(in Thousands)</th>\n",
       "      <th>Add5(in Thousands)</th>\n",
       "      <th>Profit(in Thousands)</th>\n",
       "    </tr>\n",
       "  </thead>\n",
       "  <tbody>\n",
       "    <tr>\n",
       "      <th>0</th>\n",
       "      <td>2018-10-08</td>\n",
       "      <td>208.00</td>\n",
       "      <td>222.25</td>\n",
       "      <td>206.85</td>\n",
       "      <td>216.00</td>\n",
       "      <td>215.15</td>\n",
       "      <td>4093.065</td>\n",
       "    </tr>\n",
       "    <tr>\n",
       "      <th>1</th>\n",
       "      <td>2018-10-05</td>\n",
       "      <td>217.00</td>\n",
       "      <td>218.60</td>\n",
       "      <td>205.90</td>\n",
       "      <td>210.25</td>\n",
       "      <td>209.20</td>\n",
       "      <td>4042.448</td>\n",
       "    </tr>\n",
       "    <tr>\n",
       "      <th>2</th>\n",
       "      <td>2018-10-04</td>\n",
       "      <td>223.50</td>\n",
       "      <td>227.80</td>\n",
       "      <td>216.15</td>\n",
       "      <td>217.25</td>\n",
       "      <td>218.20</td>\n",
       "      <td>4213.819</td>\n",
       "    </tr>\n",
       "    <tr>\n",
       "      <th>3</th>\n",
       "      <td>2018-10-03</td>\n",
       "      <td>230.00</td>\n",
       "      <td>237.50</td>\n",
       "      <td>225.75</td>\n",
       "      <td>226.45</td>\n",
       "      <td>227.60</td>\n",
       "      <td>4391.665</td>\n",
       "    </tr>\n",
       "    <tr>\n",
       "      <th>4</th>\n",
       "      <td>2018-10-01</td>\n",
       "      <td>234.55</td>\n",
       "      <td>234.60</td>\n",
       "      <td>221.05</td>\n",
       "      <td>230.30</td>\n",
       "      <td>230.90</td>\n",
       "      <td>4350.683</td>\n",
       "    </tr>\n",
       "  </tbody>\n",
       "</table>\n",
       "</div>"
      ],
      "text/plain": [
       "         Date  Add1(in Thousands)  Add2(in Thousands)  Add3(in Thousands)  \\\n",
       "0  2018-10-08              208.00              222.25              206.85   \n",
       "1  2018-10-05              217.00              218.60              205.90   \n",
       "2  2018-10-04              223.50              227.80              216.15   \n",
       "3  2018-10-03              230.00              237.50              225.75   \n",
       "4  2018-10-01              234.55              234.60              221.05   \n",
       "\n",
       "   Add4(in Thousands)  Add5(in Thousands)  Profit(in Thousands)  \n",
       "0              216.00              215.15              4093.065  \n",
       "1              210.25              209.20              4042.448  \n",
       "2              217.25              218.20              4213.819  \n",
       "3              226.45              227.60              4391.665  \n",
       "4              230.30              230.90              4350.683  "
      ]
     },
     "execution_count": 3,
     "metadata": {},
     "output_type": "execute_result"
    }
   ],
   "source": [
    "data.head()"
   ]
  },
  {
   "cell_type": "code",
   "execution_count": 4,
   "id": "8951f308",
   "metadata": {},
   "outputs": [
    {
     "data": {
      "text/html": [
       "<div>\n",
       "<style scoped>\n",
       "    .dataframe tbody tr th:only-of-type {\n",
       "        vertical-align: middle;\n",
       "    }\n",
       "\n",
       "    .dataframe tbody tr th {\n",
       "        vertical-align: top;\n",
       "    }\n",
       "\n",
       "    .dataframe thead th {\n",
       "        text-align: right;\n",
       "    }\n",
       "</style>\n",
       "<table border=\"1\" class=\"dataframe\">\n",
       "  <thead>\n",
       "    <tr style=\"text-align: right;\">\n",
       "      <th></th>\n",
       "      <th>Date</th>\n",
       "      <th>Add1(in Thousands)</th>\n",
       "      <th>Add2(in Thousands)</th>\n",
       "      <th>Add3(in Thousands)</th>\n",
       "      <th>Add4(in Thousands)</th>\n",
       "      <th>Add5(in Thousands)</th>\n",
       "      <th>Profit(in Thousands)</th>\n",
       "    </tr>\n",
       "  </thead>\n",
       "  <tbody>\n",
       "    <tr>\n",
       "      <th>200</th>\n",
       "      <td>2017-12-14</td>\n",
       "      <td>288.00</td>\n",
       "      <td>288.25</td>\n",
       "      <td>279.20</td>\n",
       "      <td>284.50</td>\n",
       "      <td>284.30</td>\n",
       "      <td>5374.105</td>\n",
       "    </tr>\n",
       "    <tr>\n",
       "      <th>201</th>\n",
       "      <td>2017-12-13</td>\n",
       "      <td>290.00</td>\n",
       "      <td>292.50</td>\n",
       "      <td>282.20</td>\n",
       "      <td>284.80</td>\n",
       "      <td>284.45</td>\n",
       "      <td>5439.655</td>\n",
       "    </tr>\n",
       "    <tr>\n",
       "      <th>202</th>\n",
       "      <td>2017-12-12</td>\n",
       "      <td>298.60</td>\n",
       "      <td>298.60</td>\n",
       "      <td>286.65</td>\n",
       "      <td>287.45</td>\n",
       "      <td>287.80</td>\n",
       "      <td>5545.013</td>\n",
       "    </tr>\n",
       "    <tr>\n",
       "      <th>203</th>\n",
       "      <td>2017-12-11</td>\n",
       "      <td>290.00</td>\n",
       "      <td>299.55</td>\n",
       "      <td>285.90</td>\n",
       "      <td>297.85</td>\n",
       "      <td>298.35</td>\n",
       "      <td>5565.444</td>\n",
       "    </tr>\n",
       "    <tr>\n",
       "      <th>204</th>\n",
       "      <td>2017-12-08</td>\n",
       "      <td>287.55</td>\n",
       "      <td>289.90</td>\n",
       "      <td>285.05</td>\n",
       "      <td>288.05</td>\n",
       "      <td>288.45</td>\n",
       "      <td>5421.842</td>\n",
       "    </tr>\n",
       "  </tbody>\n",
       "</table>\n",
       "</div>"
      ],
      "text/plain": [
       "           Date  Add1(in Thousands)  Add2(in Thousands)  Add3(in Thousands)  \\\n",
       "200  2017-12-14              288.00              288.25              279.20   \n",
       "201  2017-12-13              290.00              292.50              282.20   \n",
       "202  2017-12-12              298.60              298.60              286.65   \n",
       "203  2017-12-11              290.00              299.55              285.90   \n",
       "204  2017-12-08              287.55              289.90              285.05   \n",
       "\n",
       "     Add4(in Thousands)  Add5(in Thousands)  Profit(in Thousands)  \n",
       "200              284.50              284.30              5374.105  \n",
       "201              284.80              284.45              5439.655  \n",
       "202              287.45              287.80              5545.013  \n",
       "203              297.85              298.35              5565.444  \n",
       "204              288.05              288.45              5421.842  "
      ]
     },
     "execution_count": 4,
     "metadata": {},
     "output_type": "execute_result"
    }
   ],
   "source": [
    "data.tail()"
   ]
  },
  {
   "cell_type": "code",
   "execution_count": 5,
   "id": "120446ff",
   "metadata": {},
   "outputs": [
    {
     "data": {
      "text/plain": [
       "(205, 7)"
      ]
     },
     "execution_count": 5,
     "metadata": {},
     "output_type": "execute_result"
    }
   ],
   "source": [
    "data.shape"
   ]
  },
  {
   "cell_type": "code",
   "execution_count": 6,
   "id": "48dc67e7",
   "metadata": {},
   "outputs": [
    {
     "name": "stdout",
     "output_type": "stream",
     "text": [
      "<class 'pandas.core.frame.DataFrame'>\n",
      "RangeIndex: 205 entries, 0 to 204\n",
      "Data columns (total 7 columns):\n",
      " #   Column                Non-Null Count  Dtype  \n",
      "---  ------                --------------  -----  \n",
      " 0   Date                  205 non-null    object \n",
      " 1   Add1(in Thousands)    205 non-null    float64\n",
      " 2   Add2(in Thousands)    205 non-null    float64\n",
      " 3   Add3(in Thousands)    205 non-null    float64\n",
      " 4   Add4(in Thousands)    205 non-null    float64\n",
      " 5   Add5(in Thousands)    205 non-null    float64\n",
      " 6   Profit(in Thousands)  205 non-null    float64\n",
      "dtypes: float64(6), object(1)\n",
      "memory usage: 11.3+ KB\n"
     ]
    }
   ],
   "source": [
    "data.info()"
   ]
  },
  {
   "cell_type": "code",
   "execution_count": 7,
   "id": "048a1d47",
   "metadata": {},
   "outputs": [
    {
     "data": {
      "text/html": [
       "<div>\n",
       "<style scoped>\n",
       "    .dataframe tbody tr th:only-of-type {\n",
       "        vertical-align: middle;\n",
       "    }\n",
       "\n",
       "    .dataframe tbody tr th {\n",
       "        vertical-align: top;\n",
       "    }\n",
       "\n",
       "    .dataframe thead th {\n",
       "        text-align: right;\n",
       "    }\n",
       "</style>\n",
       "<table border=\"1\" class=\"dataframe\">\n",
       "  <thead>\n",
       "    <tr style=\"text-align: right;\">\n",
       "      <th></th>\n",
       "      <th>Add1(in Thousands)</th>\n",
       "      <th>Add2(in Thousands)</th>\n",
       "      <th>Add3(in Thousands)</th>\n",
       "      <th>Add4(in Thousands)</th>\n",
       "      <th>Add5(in Thousands)</th>\n",
       "      <th>Profit(in Thousands)</th>\n",
       "    </tr>\n",
       "  </thead>\n",
       "  <tbody>\n",
       "    <tr>\n",
       "      <th>count</th>\n",
       "      <td>205.000000</td>\n",
       "      <td>205.000000</td>\n",
       "      <td>205.000000</td>\n",
       "      <td>205.000000</td>\n",
       "      <td>205.000000</td>\n",
       "      <td>205.000000</td>\n",
       "    </tr>\n",
       "    <tr>\n",
       "      <th>mean</th>\n",
       "      <td>267.577561</td>\n",
       "      <td>271.722439</td>\n",
       "      <td>262.990732</td>\n",
       "      <td>267.223902</td>\n",
       "      <td>267.152683</td>\n",
       "      <td>5059.630234</td>\n",
       "    </tr>\n",
       "    <tr>\n",
       "      <th>std</th>\n",
       "      <td>26.219588</td>\n",
       "      <td>25.914939</td>\n",
       "      <td>26.126704</td>\n",
       "      <td>26.238832</td>\n",
       "      <td>26.215360</td>\n",
       "      <td>486.910414</td>\n",
       "    </tr>\n",
       "    <tr>\n",
       "      <th>min</th>\n",
       "      <td>208.000000</td>\n",
       "      <td>218.600000</td>\n",
       "      <td>205.900000</td>\n",
       "      <td>210.250000</td>\n",
       "      <td>209.200000</td>\n",
       "      <td>4042.448000</td>\n",
       "    </tr>\n",
       "    <tr>\n",
       "      <th>25%</th>\n",
       "      <td>244.000000</td>\n",
       "      <td>248.500000</td>\n",
       "      <td>240.300000</td>\n",
       "      <td>243.050000</td>\n",
       "      <td>243.000000</td>\n",
       "      <td>4617.695000</td>\n",
       "    </tr>\n",
       "    <tr>\n",
       "      <th>50%</th>\n",
       "      <td>269.700000</td>\n",
       "      <td>274.200000</td>\n",
       "      <td>263.250000</td>\n",
       "      <td>268.900000</td>\n",
       "      <td>268.350000</td>\n",
       "      <td>5088.455000</td>\n",
       "    </tr>\n",
       "    <tr>\n",
       "      <th>75%</th>\n",
       "      <td>284.400000</td>\n",
       "      <td>288.800000</td>\n",
       "      <td>280.900000</td>\n",
       "      <td>284.500000</td>\n",
       "      <td>284.450000</td>\n",
       "      <td>5387.438000</td>\n",
       "    </tr>\n",
       "    <tr>\n",
       "      <th>max</th>\n",
       "      <td>327.700000</td>\n",
       "      <td>328.750000</td>\n",
       "      <td>321.650000</td>\n",
       "      <td>325.950000</td>\n",
       "      <td>325.750000</td>\n",
       "      <td>6137.800000</td>\n",
       "    </tr>\n",
       "  </tbody>\n",
       "</table>\n",
       "</div>"
      ],
      "text/plain": [
       "       Add1(in Thousands)  Add2(in Thousands)  Add3(in Thousands)  \\\n",
       "count          205.000000          205.000000          205.000000   \n",
       "mean           267.577561          271.722439          262.990732   \n",
       "std             26.219588           25.914939           26.126704   \n",
       "min            208.000000          218.600000          205.900000   \n",
       "25%            244.000000          248.500000          240.300000   \n",
       "50%            269.700000          274.200000          263.250000   \n",
       "75%            284.400000          288.800000          280.900000   \n",
       "max            327.700000          328.750000          321.650000   \n",
       "\n",
       "       Add4(in Thousands)  Add5(in Thousands)  Profit(in Thousands)  \n",
       "count          205.000000          205.000000            205.000000  \n",
       "mean           267.223902          267.152683           5059.630234  \n",
       "std             26.238832           26.215360            486.910414  \n",
       "min            210.250000          209.200000           4042.448000  \n",
       "25%            243.050000          243.000000           4617.695000  \n",
       "50%            268.900000          268.350000           5088.455000  \n",
       "75%            284.500000          284.450000           5387.438000  \n",
       "max            325.950000          325.750000           6137.800000  "
      ]
     },
     "execution_count": 7,
     "metadata": {},
     "output_type": "execute_result"
    }
   ],
   "source": [
    "data.describe()"
   ]
  },
  {
   "cell_type": "code",
   "execution_count": 8,
   "id": "a3dc9957",
   "metadata": {},
   "outputs": [
    {
     "data": {
      "text/plain": [
       "Index(['Date', 'Add1(in Thousands)', 'Add2(in Thousands)',\n",
       "       'Add3(in Thousands)', 'Add4(in Thousands)', 'Add5(in Thousands)',\n",
       "       'Profit(in Thousands)'],\n",
       "      dtype='object')"
      ]
     },
     "execution_count": 8,
     "metadata": {},
     "output_type": "execute_result"
    }
   ],
   "source": [
    "data.columns"
   ]
  },
  {
   "cell_type": "code",
   "execution_count": 9,
   "id": "daec271a",
   "metadata": {},
   "outputs": [
    {
     "data": {
      "text/html": [
       "<div>\n",
       "<style scoped>\n",
       "    .dataframe tbody tr th:only-of-type {\n",
       "        vertical-align: middle;\n",
       "    }\n",
       "\n",
       "    .dataframe tbody tr th {\n",
       "        vertical-align: top;\n",
       "    }\n",
       "\n",
       "    .dataframe thead th {\n",
       "        text-align: right;\n",
       "    }\n",
       "</style>\n",
       "<table border=\"1\" class=\"dataframe\">\n",
       "  <thead>\n",
       "    <tr style=\"text-align: right;\">\n",
       "      <th></th>\n",
       "      <th>Date</th>\n",
       "      <th>Add1(in Thousands)</th>\n",
       "      <th>Add2(in Thousands)</th>\n",
       "      <th>Add3(in Thousands)</th>\n",
       "      <th>Add4(in Thousands)</th>\n",
       "      <th>Add5(in Thousands)</th>\n",
       "      <th>Profit(in Thousands)</th>\n",
       "    </tr>\n",
       "  </thead>\n",
       "  <tbody>\n",
       "    <tr>\n",
       "      <th>0</th>\n",
       "      <td>False</td>\n",
       "      <td>False</td>\n",
       "      <td>False</td>\n",
       "      <td>False</td>\n",
       "      <td>False</td>\n",
       "      <td>False</td>\n",
       "      <td>False</td>\n",
       "    </tr>\n",
       "    <tr>\n",
       "      <th>1</th>\n",
       "      <td>False</td>\n",
       "      <td>False</td>\n",
       "      <td>False</td>\n",
       "      <td>False</td>\n",
       "      <td>False</td>\n",
       "      <td>False</td>\n",
       "      <td>False</td>\n",
       "    </tr>\n",
       "    <tr>\n",
       "      <th>2</th>\n",
       "      <td>False</td>\n",
       "      <td>False</td>\n",
       "      <td>False</td>\n",
       "      <td>False</td>\n",
       "      <td>False</td>\n",
       "      <td>False</td>\n",
       "      <td>False</td>\n",
       "    </tr>\n",
       "    <tr>\n",
       "      <th>3</th>\n",
       "      <td>False</td>\n",
       "      <td>False</td>\n",
       "      <td>False</td>\n",
       "      <td>False</td>\n",
       "      <td>False</td>\n",
       "      <td>False</td>\n",
       "      <td>False</td>\n",
       "    </tr>\n",
       "    <tr>\n",
       "      <th>4</th>\n",
       "      <td>False</td>\n",
       "      <td>False</td>\n",
       "      <td>False</td>\n",
       "      <td>False</td>\n",
       "      <td>False</td>\n",
       "      <td>False</td>\n",
       "      <td>False</td>\n",
       "    </tr>\n",
       "    <tr>\n",
       "      <th>...</th>\n",
       "      <td>...</td>\n",
       "      <td>...</td>\n",
       "      <td>...</td>\n",
       "      <td>...</td>\n",
       "      <td>...</td>\n",
       "      <td>...</td>\n",
       "      <td>...</td>\n",
       "    </tr>\n",
       "    <tr>\n",
       "      <th>200</th>\n",
       "      <td>False</td>\n",
       "      <td>False</td>\n",
       "      <td>False</td>\n",
       "      <td>False</td>\n",
       "      <td>False</td>\n",
       "      <td>False</td>\n",
       "      <td>False</td>\n",
       "    </tr>\n",
       "    <tr>\n",
       "      <th>201</th>\n",
       "      <td>False</td>\n",
       "      <td>False</td>\n",
       "      <td>False</td>\n",
       "      <td>False</td>\n",
       "      <td>False</td>\n",
       "      <td>False</td>\n",
       "      <td>False</td>\n",
       "    </tr>\n",
       "    <tr>\n",
       "      <th>202</th>\n",
       "      <td>False</td>\n",
       "      <td>False</td>\n",
       "      <td>False</td>\n",
       "      <td>False</td>\n",
       "      <td>False</td>\n",
       "      <td>False</td>\n",
       "      <td>False</td>\n",
       "    </tr>\n",
       "    <tr>\n",
       "      <th>203</th>\n",
       "      <td>False</td>\n",
       "      <td>False</td>\n",
       "      <td>False</td>\n",
       "      <td>False</td>\n",
       "      <td>False</td>\n",
       "      <td>False</td>\n",
       "      <td>False</td>\n",
       "    </tr>\n",
       "    <tr>\n",
       "      <th>204</th>\n",
       "      <td>False</td>\n",
       "      <td>False</td>\n",
       "      <td>False</td>\n",
       "      <td>False</td>\n",
       "      <td>False</td>\n",
       "      <td>False</td>\n",
       "      <td>False</td>\n",
       "    </tr>\n",
       "  </tbody>\n",
       "</table>\n",
       "<p>205 rows × 7 columns</p>\n",
       "</div>"
      ],
      "text/plain": [
       "      Date  Add1(in Thousands)  Add2(in Thousands)  Add3(in Thousands)  \\\n",
       "0    False               False               False               False   \n",
       "1    False               False               False               False   \n",
       "2    False               False               False               False   \n",
       "3    False               False               False               False   \n",
       "4    False               False               False               False   \n",
       "..     ...                 ...                 ...                 ...   \n",
       "200  False               False               False               False   \n",
       "201  False               False               False               False   \n",
       "202  False               False               False               False   \n",
       "203  False               False               False               False   \n",
       "204  False               False               False               False   \n",
       "\n",
       "     Add4(in Thousands)  Add5(in Thousands)  Profit(in Thousands)  \n",
       "0                 False               False                 False  \n",
       "1                 False               False                 False  \n",
       "2                 False               False                 False  \n",
       "3                 False               False                 False  \n",
       "4                 False               False                 False  \n",
       "..                  ...                 ...                   ...  \n",
       "200               False               False                 False  \n",
       "201               False               False                 False  \n",
       "202               False               False                 False  \n",
       "203               False               False                 False  \n",
       "204               False               False                 False  \n",
       "\n",
       "[205 rows x 7 columns]"
      ]
     },
     "execution_count": 9,
     "metadata": {},
     "output_type": "execute_result"
    }
   ],
   "source": [
    "data.isna()"
   ]
  },
  {
   "cell_type": "code",
   "execution_count": 10,
   "id": "21db7723",
   "metadata": {},
   "outputs": [
    {
     "data": {
      "text/plain": [
       "Date                    0\n",
       "Add1(in Thousands)      0\n",
       "Add2(in Thousands)      0\n",
       "Add3(in Thousands)      0\n",
       "Add4(in Thousands)      0\n",
       "Add5(in Thousands)      0\n",
       "Profit(in Thousands)    0\n",
       "dtype: int64"
      ]
     },
     "execution_count": 10,
     "metadata": {},
     "output_type": "execute_result"
    }
   ],
   "source": [
    "data.isna().sum()"
   ]
  },
  {
   "cell_type": "markdown",
   "id": "ed75c69a",
   "metadata": {},
   "source": [
    "#A textile company regularly spent money on five advertising companies for their ads\n",
    "#1 .First of all, check whether there is any relationship between the amount spent for advertising through five different      companies and profit generated"
   ]
  },
  {
   "cell_type": "code",
   "execution_count": 11,
   "id": "05c6881d",
   "metadata": {},
   "outputs": [
    {
     "data": {
      "text/plain": [
       "array([[<AxesSubplot:title={'center':'Add1(in Thousands)'}>,\n",
       "        <AxesSubplot:title={'center':'Add2(in Thousands)'}>],\n",
       "       [<AxesSubplot:title={'center':'Add3(in Thousands)'}>,\n",
       "        <AxesSubplot:title={'center':'Add4(in Thousands)'}>],\n",
       "       [<AxesSubplot:title={'center':'Add5(in Thousands)'}>,\n",
       "        <AxesSubplot:title={'center':'Profit(in Thousands)'}>]],\n",
       "      dtype=object)"
      ]
     },
     "execution_count": 11,
     "metadata": {},
     "output_type": "execute_result"
    },
    {
     "data": {
      "image/png": "[encoded data removed]",
      "text/plain": [
       "<Figure size 1440x720 with 6 Axes>"
      ]
     },
     "metadata": {
      "needs_background": "light"
     },
     "output_type": "display_data"
    }
   ],
   "source": [
    "x= data[[ 'Add1(in Thousands)', 'Add2(in Thousands)','Add3(in Thousands)',\n",
    "         'Add4(in Thousands)', 'Add5(in Thousands)','Profit(in Thousands)']]\n",
    "x.hist(figsize=(20,10))"
   ]
  },
  {
   "cell_type": "code",
   "execution_count": 12,
   "id": "125ae9e7",
   "metadata": {},
   "outputs": [
    {
     "data": {
      "text/html": [
       "<div>\n",
       "<style scoped>\n",
       "    .dataframe tbody tr th:only-of-type {\n",
       "        vertical-align: middle;\n",
       "    }\n",
       "\n",
       "    .dataframe tbody tr th {\n",
       "        vertical-align: top;\n",
       "    }\n",
       "\n",
       "    .dataframe thead th {\n",
       "        text-align: right;\n",
       "    }\n",
       "</style>\n",
       "<table border=\"1\" class=\"dataframe\">\n",
       "  <thead>\n",
       "    <tr style=\"text-align: right;\">\n",
       "      <th></th>\n",
       "      <th>Add1(in Thousands)</th>\n",
       "      <th>Add2(in Thousands)</th>\n",
       "      <th>Add3(in Thousands)</th>\n",
       "      <th>Add4(in Thousands)</th>\n",
       "      <th>Add5(in Thousands)</th>\n",
       "      <th>Profit(in Thousands)</th>\n",
       "    </tr>\n",
       "  </thead>\n",
       "  <tbody>\n",
       "    <tr>\n",
       "      <th>Add1(in Thousands)</th>\n",
       "      <td>1.000000</td>\n",
       "      <td>0.990976</td>\n",
       "      <td>0.986274</td>\n",
       "      <td>0.976365</td>\n",
       "      <td>0.976716</td>\n",
       "      <td>0.991975</td>\n",
       "    </tr>\n",
       "    <tr>\n",
       "      <th>Add2(in Thousands)</th>\n",
       "      <td>0.990976</td>\n",
       "      <td>1.000000</td>\n",
       "      <td>0.987990</td>\n",
       "      <td>0.989921</td>\n",
       "      <td>0.990285</td>\n",
       "      <td>0.999145</td>\n",
       "    </tr>\n",
       "    <tr>\n",
       "      <th>Add3(in Thousands)</th>\n",
       "      <td>0.986274</td>\n",
       "      <td>0.987990</td>\n",
       "      <td>1.000000</td>\n",
       "      <td>0.991343</td>\n",
       "      <td>0.991908</td>\n",
       "      <td>0.993389</td>\n",
       "    </tr>\n",
       "    <tr>\n",
       "      <th>Add4(in Thousands)</th>\n",
       "      <td>0.976365</td>\n",
       "      <td>0.989921</td>\n",
       "      <td>0.991343</td>\n",
       "      <td>1.000000</td>\n",
       "      <td>0.999699</td>\n",
       "      <td>0.993346</td>\n",
       "    </tr>\n",
       "    <tr>\n",
       "      <th>Add5(in Thousands)</th>\n",
       "      <td>0.976716</td>\n",
       "      <td>0.990285</td>\n",
       "      <td>0.991908</td>\n",
       "      <td>0.999699</td>\n",
       "      <td>1.000000</td>\n",
       "      <td>0.993710</td>\n",
       "    </tr>\n",
       "    <tr>\n",
       "      <th>Profit(in Thousands)</th>\n",
       "      <td>0.991975</td>\n",
       "      <td>0.999145</td>\n",
       "      <td>0.993389</td>\n",
       "      <td>0.993346</td>\n",
       "      <td>0.993710</td>\n",
       "      <td>1.000000</td>\n",
       "    </tr>\n",
       "  </tbody>\n",
       "</table>\n",
       "</div>"
      ],
      "text/plain": [
       "                      Add1(in Thousands)  Add2(in Thousands)  \\\n",
       "Add1(in Thousands)              1.000000            0.990976   \n",
       "Add2(in Thousands)              0.990976            1.000000   \n",
       "Add3(in Thousands)              0.986274            0.987990   \n",
       "Add4(in Thousands)              0.976365            0.989921   \n",
       "Add5(in Thousands)              0.976716            0.990285   \n",
       "Profit(in Thousands)            0.991975            0.999145   \n",
       "\n",
       "                      Add3(in Thousands)  Add4(in Thousands)  \\\n",
       "Add1(in Thousands)              0.986274            0.976365   \n",
       "Add2(in Thousands)              0.987990            0.989921   \n",
       "Add3(in Thousands)              1.000000            0.991343   \n",
       "Add4(in Thousands)              0.991343            1.000000   \n",
       "Add5(in Thousands)              0.991908            0.999699   \n",
       "Profit(in Thousands)            0.993389            0.993346   \n",
       "\n",
       "                      Add5(in Thousands)  Profit(in Thousands)  \n",
       "Add1(in Thousands)              0.976716              0.991975  \n",
       "Add2(in Thousands)              0.990285              0.999145  \n",
       "Add3(in Thousands)              0.991908              0.993389  \n",
       "Add4(in Thousands)              0.999699              0.993346  \n",
       "Add5(in Thousands)              1.000000              0.993710  \n",
       "Profit(in Thousands)            0.993710              1.000000  "
      ]
     },
     "execution_count": 12,
     "metadata": {},
     "output_type": "execute_result"
    }
   ],
   "source": [
    "corrmatrix=data.corr()\n",
    "corrmatrix"
   ]
  },
  {
   "cell_type": "code",
   "execution_count": 13,
   "id": "06e14f0c",
   "metadata": {},
   "outputs": [
    {
     "data": {
      "text/plain": [
       "<AxesSubplot:>"
      ]
     },
     "execution_count": 13,
     "metadata": {},
     "output_type": "execute_result"
    },
    {
     "data": {
      "image/png": "[encoded data removed]",
      "text/plain": [
       "<Figure size 1440x720 with 2 Axes>"
      ]
     },
     "metadata": {
      "needs_background": "light"
     },
     "output_type": "display_data"
    }
   ],
   "source": [
    "corrmatrix=data.corr()\n",
    "plt.subplots(figsize=(20,10))\n",
    "sns.heatmap(corrmatrix,vmin=-1,vmax=1,annot=True,linewidths=0.4,cmap='Pastel2_r')"
   ]
  },
  {
   "cell_type": "markdown",
   "id": "d7c1a4e8",
   "metadata": {},
   "source": [
    "*All variables are positively highly correlated."
   ]
  },
  {
   "cell_type": "markdown",
   "id": "e34415b2",
   "metadata": {},
   "source": [
    "#2 .Build a regression model to predict the profit from the given data and\n",
    "comment your findings on it."
   ]
  },
  {
   "cell_type": "code",
   "execution_count": 14,
   "id": "01bf779a",
   "metadata": {},
   "outputs": [],
   "source": [
    "y=data['Profit(in Thousands)']\n",
    "x=data.drop(['Date','Profit(in Thousands)'],axis=1)\n",
    "\n",
    "x_train,x_test,y_train,y_test = train_test_split(x,y,random_state=42,test_size=0.25)\n",
    "lr=linear_model.LinearRegression()\n",
    "model = lr.fit(x_train,y_train)\n",
    "prediction = model.predict(x_test)"
   ]
  },
  {
   "cell_type": "code",
   "execution_count": 15,
   "id": "691321fa",
   "metadata": {},
   "outputs": [
    {
     "name": "stdout",
     "output_type": "stream",
     "text": [
      "15     4152.066\n",
      "9      4446.441\n",
      "100    5131.898\n",
      "132    4907.560\n",
      "68     5004.282\n",
      "95     4623.793\n",
      "159    5384.175\n",
      "162    5328.025\n",
      "147    5175.051\n",
      "182    5956.323\n",
      "191    5780.799\n",
      "164    4997.719\n",
      "65     5075.858\n",
      "175    5784.540\n",
      "73     4936.120\n",
      "152    5065.652\n",
      "18     4190.965\n",
      "82     5034.726\n",
      "86     5015.536\n",
      "143    5134.657\n",
      "60     5145.131\n",
      "101    5421.940\n",
      "98     4569.293\n",
      "30     4598.292\n",
      "25     4436.321\n",
      "16     4175.677\n",
      "168    5616.791\n",
      "195    5667.250\n",
      "97     4648.834\n",
      "194    5717.838\n",
      "67     5001.615\n",
      "120    5182.368\n",
      "154    5017.503\n",
      "202    5545.013\n",
      "79     5013.207\n",
      "69     5030.451\n",
      "145    5108.626\n",
      "55     4760.877\n",
      "45     4606.340\n",
      "84     4925.861\n",
      "146    5250.788\n",
      "66     5038.222\n",
      "111    5491.792\n",
      "153    5019.997\n",
      "96     4647.356\n",
      "38     4486.380\n",
      "24     4435.174\n",
      "139    5300.437\n",
      "112    5425.190\n",
      "29     4482.183\n",
      "19     4193.095\n",
      "178    6062.457\n",
      "Name: Profit(in Thousands), dtype: float64\n"
     ]
    }
   ],
   "source": [
    "print(y_test)"
   ]
  },
  {
   "cell_type": "code",
   "execution_count": 16,
   "id": "7d282d5b",
   "metadata": {},
   "outputs": [
    {
     "name": "stdout",
     "output_type": "stream",
     "text": [
      "[4152.066 4446.441 5131.898 4907.56  5004.282 4623.793 5384.175 5328.025\n",
      " 5175.051 5956.323 5780.799 4997.719 5075.858 5784.54  4936.12  5065.652\n",
      " 4190.965 5034.726 5015.536 5134.657 5145.131 5421.94  4569.293 4598.292\n",
      " 4436.321 4175.677 5616.791 5667.25  4648.834 5717.838 5001.615 5182.368\n",
      " 5017.503 5545.013 5013.207 5030.451 5108.626 4760.877 4606.34  4925.861\n",
      " 5250.788 5038.222 5491.792 5019.997 4647.356 4486.38  4435.174 5300.437\n",
      " 5425.19  4482.183 4193.095 6062.457]\n"
     ]
    }
   ],
   "source": [
    "print(prediction)"
   ]
  },
  {
   "cell_type": "code",
   "execution_count": 17,
   "id": "198662a9",
   "metadata": {},
   "outputs": [
    {
     "name": "stdout",
     "output_type": "stream",
     "text": [
      "MSE is: 8.11273293080854e-25\n"
     ]
    }
   ],
   "source": [
    "print('MSE is:', mean_squared_error(y_test,prediction))"
   ]
  },
  {
   "cell_type": "markdown",
   "id": "af9ff70e",
   "metadata": {},
   "source": [
    "#3. Predict the profit generated by the company, if they wish to spend the following amount for advertisement.\n",
    "#Add1(in Thousands) 290\n",
    "#Add2(in Thousands) 312\n",
    "#Add3(in Thousands) 309\n",
    "#Add4(in Thousands) 298\n",
    "#Add5(in Thousands) 320"
   ]
  },
  {
   "cell_type": "code",
   "execution_count": 18,
   "id": "d53061a9",
   "metadata": {},
   "outputs": [
    {
     "data": {
      "text/plain": [
       "array([[290, 312, 309, 298, 320]])"
      ]
     },
     "execution_count": 18,
     "metadata": {},
     "output_type": "execute_result"
    }
   ],
   "source": [
    "new_row =np.array([290,312,309,298,320]).reshape(1,-1)\n",
    "new_row"
   ]
  },
  {
   "cell_type": "code",
   "execution_count": 19,
   "id": "94ed4214",
   "metadata": {},
   "outputs": [
    {
     "data": {
      "text/plain": [
       "array([5820.06])"
      ]
     },
     "execution_count": 19,
     "metadata": {},
     "output_type": "execute_result"
    }
   ],
   "source": [
    "y_pred = model.predict(new_row)\n",
    "y_pred"
   ]
  },
  {
   "cell_type": "markdown",
   "id": "27b9d2d8",
   "metadata": {},
   "source": [
    "*The predicted profit is 5820.06 for the given amounts."
   ]
  }
 ],
 "metadata": {
  "kernelspec": {
   "display_name": "Python 3 (ipykernel)",
   "language": "python",
   "name": "python3"
  },
  "language_info": {
   "codemirror_mode": {
    "name": "ipython",
    "version": 3
   },
   "file_extension": ".py",
   "mimetype": "text/x-python",
   "name": "python",
   "nbconvert_exporter": "python",
   "pygments_lexer": "ipython3",
   "version": "3.9.12"
  }
 },
 "nbformat": 4,
 "nbformat_minor": 5
}
